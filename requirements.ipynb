{
 "cells": [
  {
   "cell_type": "code",
   "execution_count": null,
   "metadata": {},
   "outputs": [],
   "source": []
  },
  {
   "cell_type": "code",
   "execution_count": 2,
   "metadata": {},
   "outputs": [
    {
     "name": "stdout",
     "output_type": "stream",
     "text": [
      "Note: you may need to restart the kernel to use updated packages.Collecting torch==2.0.1\n",
      "  Downloading torch-2.0.1-cp39-cp39-win_amd64.whl (172.4 MB)\n",
      "     -------------------------------------- 172.4/172.4 MB 9.8 MB/s eta 0:00:00\n",
      "Collecting jinja2\n",
      "  Downloading Jinja2-3.1.3-py3-none-any.whl (133 kB)\n",
      "     -------------------------------------- 133.2/133.2 KB 7.7 MB/s eta 0:00:00\n",
      "Collecting filelock\n",
      "  Using cached filelock-3.13.1-py3-none-any.whl (11 kB)\n",
      "Requirement already satisfied: typing-extensions in c:\\users\\mpari\\0. llmwork\\.venv_fingpt\\lib\\site-packages (from torch==2.0.1) (4.9.0)\n",
      "Collecting sympy\n",
      "  Using cached sympy-1.12-py3-none-any.whl (5.7 MB)\n",
      "Collecting networkx\n",
      "  Using cached networkx-3.2.1-py3-none-any.whl (1.6 MB)\n",
      "Collecting MarkupSafe>=2.0\n",
      "  Using cached MarkupSafe-2.1.3-cp39-cp39-win_amd64.whl (17 kB)\n",
      "Collecting mpmath>=0.19\n",
      "  Using cached mpmath-1.3.0-py3-none-any.whl (536 kB)\n",
      "Installing collected packages: mpmath, sympy, networkx, MarkupSafe, filelock, jinja2, torch\n",
      "Successfully installed MarkupSafe-2.1.3 filelock-3.13.1 jinja2-3.1.3 mpmath-1.3.0 networkx-3.2.1 sympy-1.12 torch-2.0.1\n",
      "\n"
     ]
    },
    {
     "name": "stderr",
     "output_type": "stream",
     "text": [
      "WARNING: You are using pip version 22.0.4; however, version 23.3.2 is available.\n",
      "You should consider upgrading via the 'c:\\Users\\mpari\\0. LLMwork\\.venv_fingpt\\Scripts\\python.exe -m pip install --upgrade pip' command.\n"
     ]
    },
    {
     "name": "stdout",
     "output_type": "stream",
     "text": [
      "Collecting transformers==4.32.0Note: you may need to restart the kernel to use updated packages.\n"
     ]
    },
    {
     "name": "stderr",
     "output_type": "stream",
     "text": [
      "WARNING: You are using pip version 22.0.4; however, version 23.3.2 is available.\n",
      "You should consider upgrading via the 'c:\\Users\\mpari\\0. LLMwork\\.venv_fingpt\\Scripts\\python.exe -m pip install --upgrade pip' command.\n"
     ]
    },
    {
     "name": "stdout",
     "output_type": "stream",
     "text": [
      "\n",
      "  Downloading transformers-4.32.0-py3-none-any.whl (7.5 MB)\n",
      "     ---------------------------------------- 7.5/7.5 MB 16.6 MB/s eta 0:00:00\n",
      "Requirement already satisfied: filelock in c:\\users\\mpari\\0. llmwork\\.venv_fingpt\\lib\\site-packages (from transformers==4.32.0) (3.13.1)\n",
      "Collecting tqdm>=4.27\n",
      "  Using cached tqdm-4.66.1-py3-none-any.whl (78 kB)\n",
      "Collecting requests\n",
      "  Using cached requests-2.31.0-py3-none-any.whl (62 kB)\n",
      "Requirement already satisfied: packaging>=20.0 in c:\\users\\mpari\\0. llmwork\\.venv_fingpt\\lib\\site-packages (from transformers==4.32.0) (23.2)\n",
      "Collecting tokenizers!=0.11.3,<0.14,>=0.11.1\n",
      "  Downloading tokenizers-0.13.3-cp39-cp39-win_amd64.whl (3.5 MB)\n",
      "     ---------------------------------------- 3.5/3.5 MB 15.8 MB/s eta 0:00:00\n",
      "Collecting numpy>=1.17\n",
      "  Using cached numpy-1.26.3-cp39-cp39-win_amd64.whl (15.8 MB)\n",
      "Collecting pyyaml>=5.1\n",
      "  Using cached PyYAML-6.0.1-cp39-cp39-win_amd64.whl (152 kB)\n",
      "Collecting safetensors>=0.3.1\n",
      "  Using cached safetensors-0.4.1-cp39-none-win_amd64.whl (277 kB)\n",
      "Collecting huggingface-hub<1.0,>=0.15.1\n",
      "  Using cached huggingface_hub-0.20.2-py3-none-any.whl (330 kB)\n",
      "Collecting regex!=2019.12.17\n",
      "  Using cached regex-2023.12.25-cp39-cp39-win_amd64.whl (269 kB)\n",
      "Collecting fsspec>=2023.5.0\n",
      "  Using cached fsspec-2023.12.2-py3-none-any.whl (168 kB)\n",
      "Requirement already satisfied: typing-extensions>=3.7.4.3 in c:\\users\\mpari\\0. llmwork\\.venv_fingpt\\lib\\site-packages (from huggingface-hub<1.0,>=0.15.1->transformers==4.32.0) (4.9.0)\n",
      "Requirement already satisfied: colorama in c:\\users\\mpari\\0. llmwork\\.venv_fingpt\\lib\\site-packages (from tqdm>=4.27->transformers==4.32.0) (0.4.6)\n",
      "Collecting urllib3<3,>=1.21.1\n",
      "  Using cached urllib3-2.1.0-py3-none-any.whl (104 kB)\n",
      "Collecting idna<4,>=2.5\n",
      "  Using cached idna-3.6-py3-none-any.whl (61 kB)\n",
      "Collecting certifi>=2017.4.17\n",
      "  Using cached certifi-2023.11.17-py3-none-any.whl (162 kB)\n",
      "Collecting charset-normalizer<4,>=2\n",
      "  Using cached charset_normalizer-3.3.2-cp39-cp39-win_amd64.whl (100 kB)\n",
      "Installing collected packages: tokenizers, urllib3, tqdm, safetensors, regex, pyyaml, numpy, idna, fsspec, charset-normalizer, certifi, requests, huggingface-hub, transformers\n",
      "Successfully installed certifi-2023.11.17 charset-normalizer-3.3.2 fsspec-2023.12.2 huggingface-hub-0.20.2 idna-3.6 numpy-1.26.3 pyyaml-6.0.1 regex-2023.12.25 requests-2.31.0 safetensors-0.4.1 tokenizers-0.13.3 tqdm-4.66.1 transformers-4.32.0 urllib3-2.1.0\n",
      "Collecting peft==0.5.0\n",
      "  Downloading peft-0.5.0-py3-none-any.whl (85 kB)\n",
      "     ---------------------------------------- 85.6/85.6 KB 5.0 MB/s eta 0:00:00\n",
      "Requirement already satisfied: transformers in c:\\users\\mpari\\0. llmwork\\.venv_fingpt\\lib\\site-packages (from peft==0.5.0) (4.32.0)\n",
      "Collecting accelerate\n",
      "  Downloading accelerate-0.26.1-py3-none-any.whl (270 kB)\n",
      "     -------------------------------------- 270.9/270.9 KB 8.4 MB/s eta 0:00:00\n",
      "Requirement already satisfied: pyyaml in c:\\users\\mpari\\0. llmwork\\.venv_fingpt\\lib\\site-packages (from peft==0.5.0) (6.0.1)\n",
      "Requirement already satisfied: packaging>=20.0 in c:\\users\\mpari\\0. llmwork\\.venv_fingpt\\lib\\site-packages (from peft==0.5.0) (23.2)\n",
      "Requirement already satisfied: tqdm in c:\\users\\mpari\\0. llmwork\\.venv_fingpt\\lib\\site-packages (from peft==0.5.0) (4.66.1)\n",
      "Requirement already satisfied: numpy>=1.17 in c:\\users\\mpari\\0. llmwork\\.venv_fingpt\\lib\\site-packages (from peft==0.5.0) (1.26.3)\n",
      "Requirement already satisfied: safetensors in c:\\users\\mpari\\0. llmwork\\.venv_fingpt\\lib\\site-packages (from peft==0.5.0) (0.4.1)\n",
      "Requirement already satisfied: torch>=1.13.0 in c:\\users\\mpari\\0. llmwork\\.venv_fingpt\\lib\\site-packages (from peft==0.5.0) (2.0.1)\n",
      "Requirement already satisfied: psutil in c:\\users\\mpari\\0. llmwork\\.venv_fingpt\\lib\\site-packages (from peft==0.5.0) (5.9.7)\n",
      "Requirement already satisfied: jinja2 in c:\\users\\mpari\\0. llmwork\\.venv_fingpt\\lib\\site-packages (from torch>=1.13.0->peft==0.5.0) (3.1.3)\n",
      "Requirement already satisfied: typing-extensions in c:\\users\\mpari\\0. llmwork\\.venv_fingpt\\lib\\site-packages (from torch>=1.13.0->peft==0.5.0) (4.9.0)\n",
      "Requirement already satisfied: sympy in c:\\users\\mpari\\0. llmwork\\.venv_fingpt\\lib\\site-packages (from torch>=1.13.0->peft==0.5.0) (1.12)\n",
      "Requirement already satisfied: networkx in c:\\users\\mpari\\0. llmwork\\.venv_fingpt\\lib\\site-packages (from torch>=1.13.0->peft==0.5.0) (3.2.1)\n",
      "Requirement already satisfied: filelock in c:\\users\\mpari\\0. llmwork\\.venv_fingpt\\lib\\site-packages (from torch>=1.13.0->peft==0.5.0) (3.13.1)\n",
      "Requirement already satisfied: huggingface-hub in c:\\users\\mpari\\0. llmwork\\.venv_fingpt\\lib\\site-packages (from accelerate->peft==0.5.0) (0.20.2)\n",
      "Requirement already satisfied: colorama in c:\\users\\mpari\\0. llmwork\\.venv_fingpt\\lib\\site-packages (from tqdm->peft==0.5.0) (0.4.6)\n",
      "Requirement already satisfied: regex!=2019.12.17 in c:\\users\\mpari\\0. llmwork\\.venv_fingpt\\lib\\site-packages (from transformers->peft==0.5.0) (2023.12.25)\n",
      "Requirement already satisfied: requests in c:\\users\\mpari\\0. llmwork\\.venv_fingpt\\lib\\site-packages (from transformers->peft==0.5.0) (2.31.0)\n",
      "Requirement already satisfied: tokenizers!=0.11.3,<0.14,>=0.11.1 in c:\\users\\mpari\\0. llmwork\\.venv_fingpt\\lib\\site-packages (from transformers->peft==0.5.0) (0.13.3)\n",
      "Requirement already satisfied: fsspec>=2023.5.0 in c:\\users\\mpari\\0. llmwork\\.venv_fingpt\\lib\\site-packages (from huggingface-hub->accelerate->peft==0.5.0) (2023.12.2)\n",
      "Requirement already satisfied: MarkupSafe>=2.0 in c:\\users\\mpari\\0. llmwork\\.venv_fingpt\\lib\\site-packages (from jinja2->torch>=1.13.0->peft==0.5.0) (2.1.3)\n",
      "Requirement already satisfied: idna<4,>=2.5 in c:\\users\\mpari\\0. llmwork\\.venv_fingpt\\lib\\site-packages (from requests->transformers->peft==0.5.0) (3.6)\n",
      "Requirement already satisfied: charset-normalizer<4,>=2 in c:\\users\\mpari\\0. llmwork\\.venv_fingpt\\lib\\site-packages (from requests->transformers->peft==0.5.0) (3.3.2)\n",
      "Requirement already satisfied: certifi>=2017.4.17 in c:\\users\\mpari\\0. llmwork\\.venv_fingpt\\lib\\site-packages (from requests->transformers->peft==0.5.0) (2023.11.17)\n",
      "Requirement already satisfied: urllib3<3,>=1.21.1 in c:\\users\\mpari\\0. llmwork\\.venv_fingpt\\lib\\site-packages (from requests->transformers->peft==0.5.0) (2.1.0)\n",
      "Requirement already satisfied: mpmath>=0.19 in c:\\users\\mpari\\0. llmwork\\.venv_fingpt\\lib\\site-packages (from sympy->torch>=1.13.0->peft==0.5.0) (1.3.0)\n",
      "Installing collected packages: accelerate, peft\n",
      "Successfully installed accelerate-0.26.1 peft-0.5.0\n",
      "Note: you may need to restart the kernel to use updated packages.\n"
     ]
    },
    {
     "name": "stderr",
     "output_type": "stream",
     "text": [
      "WARNING: You are using pip version 22.0.4; however, version 23.3.2 is available.\n",
      "You should consider upgrading via the 'c:\\Users\\mpari\\0. LLMwork\\.venv_fingpt\\Scripts\\python.exe -m pip install --upgrade pip' command.\n"
     ]
    },
    {
     "name": "stdout",
     "output_type": "stream",
     "text": [
      "Collecting pandas\n",
      "  Using cached pandas-2.1.4-cp39-cp39-win_amd64.whl (10.8 MB)\n",
      "Requirement already satisfied: numpy<2,>=1.22.4 in c:\\users\\mpari\\0. llmwork\\.venv_fingpt\\lib\\site-packages (from pandas) (1.26.3)\n",
      "Collecting pytz>=2020.1\n",
      "  Using cached pytz-2023.3.post1-py2.py3-none-any.whl (502 kB)\n",
      "Collecting tzdata>=2022.1\n",
      "  Using cached tzdata-2023.4-py2.py3-none-any.whl (346 kB)\n",
      "Requirement already satisfied: python-dateutil>=2.8.2 in c:\\users\\mpari\\0. llmwork\\.venv_fingpt\\lib\\site-packages (from pandas) (2.8.2)\n",
      "Requirement already satisfied: six>=1.5 in c:\\users\\mpari\\0. llmwork\\.venv_fingpt\\lib\\site-packages (from python-dateutil>=2.8.2->pandas) (1.16.0)\n",
      "Installing collected packages: pytz, tzdata, pandas\n",
      "Successfully installed pandas-2.1.4 pytz-2023.3.post1 tzdata-2023.4\n",
      "Note: you may need to restart the kernel to use updated packages.\n"
     ]
    },
    {
     "name": "stderr",
     "output_type": "stream",
     "text": [
      "WARNING: You are using pip version 22.0.4; however, version 23.3.2 is available.\n",
      "You should consider upgrading via the 'c:\\Users\\mpari\\0. LLMwork\\.venv_fingpt\\Scripts\\python.exe -m pip install --upgrade pip' command.\n"
     ]
    },
    {
     "name": "stdout",
     "output_type": "stream",
     "text": [
      "Collecting yfinance\n",
      "  Downloading yfinance-0.2.35-py2.py3-none-any.whl (72 kB)\n",
      "     ---------------------------------------- 72.2/72.2 KB ? eta 0:00:00\n",
      "Collecting beautifulsoup4>=4.11.1\n",
      "  Downloading beautifulsoup4-4.12.3-py3-none-any.whl (147 kB)\n",
      "     -------------------------------------- 147.9/147.9 KB 8.6 MB/s eta 0:00:00\n",
      "Collecting appdirs>=1.4.4\n",
      "  Downloading appdirs-1.4.4-py2.py3-none-any.whl (9.6 kB)\n",
      "Requirement already satisfied: pytz>=2022.5 in c:\\users\\mpari\\0. llmwork\\.venv_fingpt\\lib\\site-packages (from yfinance) (2023.3.post1)\n",
      "Collecting html5lib>=1.1\n",
      "  Downloading html5lib-1.1-py2.py3-none-any.whl (112 kB)\n",
      "     -------------------------------------- 112.2/112.2 KB 6.8 MB/s eta 0:00:00\n",
      "Collecting lxml>=4.9.1\n",
      "  Downloading lxml-5.1.0-cp39-cp39-win_amd64.whl (3.9 MB)\n",
      "     ---------------------------------------- 3.9/3.9 MB 16.6 MB/s eta 0:00:00\n",
      "Requirement already satisfied: numpy>=1.16.5 in c:\\users\\mpari\\0. llmwork\\.venv_fingpt\\lib\\site-packages (from yfinance) (1.26.3)\n",
      "Collecting multitasking>=0.0.7\n",
      "  Downloading multitasking-0.0.11-py3-none-any.whl (8.5 kB)\n",
      "Requirement already satisfied: pandas>=1.3.0 in c:\\users\\mpari\\0. llmwork\\.venv_fingpt\\lib\\site-packages (from yfinance) (2.1.4)\n",
      "Requirement already satisfied: requests>=2.31 in c:\\users\\mpari\\0. llmwork\\.venv_fingpt\\lib\\site-packages (from yfinance) (2.31.0)\n",
      "Collecting peewee>=3.16.2\n",
      "  Downloading peewee-3.17.0.tar.gz (2.9 MB)\n",
      "     ---------------------------------------- 2.9/2.9 MB 18.8 MB/s eta 0:00:00\n",
      "  Installing build dependencies: started\n",
      "  Installing build dependencies: finished with status 'done'\n",
      "  Getting requirements to build wheel: started\n",
      "  Getting requirements to build wheel: finished with status 'done'\n",
      "  Preparing metadata (pyproject.toml): started\n",
      "  Preparing metadata (pyproject.toml): finished with status 'done'\n",
      "Collecting frozendict>=2.3.4\n",
      "  Downloading frozendict-2.4.0-cp39-cp39-win_amd64.whl (36 kB)\n",
      "Collecting soupsieve>1.2\n",
      "  Downloading soupsieve-2.5-py3-none-any.whl (36 kB)\n",
      "Requirement already satisfied: six>=1.9 in c:\\users\\mpari\\0. llmwork\\.venv_fingpt\\lib\\site-packages (from html5lib>=1.1->yfinance) (1.16.0)\n",
      "Collecting webencodings\n",
      "  Downloading webencodings-0.5.1-py2.py3-none-any.whl (11 kB)\n",
      "Requirement already satisfied: python-dateutil>=2.8.2 in c:\\users\\mpari\\0. llmwork\\.venv_fingpt\\lib\\site-packages (from pandas>=1.3.0->yfinance) (2.8.2)\n",
      "Requirement already satisfied: tzdata>=2022.1 in c:\\users\\mpari\\0. llmwork\\.venv_fingpt\\lib\\site-packages (from pandas>=1.3.0->yfinance) (2023.4)\n",
      "Requirement already satisfied: idna<4,>=2.5 in c:\\users\\mpari\\0. llmwork\\.venv_fingpt\\lib\\site-packages (from requests>=2.31->yfinance) (3.6)\n",
      "Requirement already satisfied: charset-normalizer<4,>=2 in c:\\users\\mpari\\0. llmwork\\.venv_fingpt\\lib\\site-packages (from requests>=2.31->yfinance) (3.3.2)\n",
      "Requirement already satisfied: certifi>=2017.4.17 in c:\\users\\mpari\\0. llmwork\\.venv_fingpt\\lib\\site-packages (from requests>=2.31->yfinance) (2023.11.17)\n",
      "Requirement already satisfied: urllib3<3,>=1.21.1 in c:\\users\\mpari\\0. llmwork\\.venv_fingpt\\lib\\site-packages (from requests>=2.31->yfinance) (2.1.0)\n",
      "Building wheels for collected packages: peewee\n",
      "  Building wheel for peewee (pyproject.toml): started\n",
      "  Building wheel for peewee (pyproject.toml): finished with status 'done'\n",
      "  Created wheel for peewee: filename=peewee-3.17.0-py3-none-any.whl size=135766 sha256=2f4057b5a8b7c132070041371ba64aa8c82a6ec5a567dff48991c45c23d18e88\n",
      "  Stored in directory: c:\\users\\mpari\\appdata\\local\\pip\\cache\\wheels\\77\\6b\\dc\\722aee2a5d46a021ab67564c9d3d5536c3bd9577fcdc3a5aeb\n",
      "Successfully built peewee\n",
      "Installing collected packages: webencodings, peewee, multitasking, appdirs, soupsieve, lxml, html5lib, frozendict, beautifulsoup4, yfinance\n",
      "Successfully installed appdirs-1.4.4 beautifulsoup4-4.12.3 frozendict-2.4.0 html5lib-1.1 lxml-5.1.0 multitasking-0.0.11 peewee-3.17.0 soupsieve-2.5 webencodings-0.5.1 yfinance-0.2.35\n",
      "Note: you may need to restart the kernel to use updated packages.\n"
     ]
    },
    {
     "name": "stderr",
     "output_type": "stream",
     "text": [
      "WARNING: You are using pip version 22.0.4; however, version 23.3.2 is available.\n",
      "You should consider upgrading via the 'c:\\Users\\mpari\\0. LLMwork\\.venv_fingpt\\Scripts\\python.exe -m pip install --upgrade pip' command.\n"
     ]
    },
    {
     "name": "stdout",
     "output_type": "stream",
     "text": [
      "Collecting finnhub-python\n",
      "  Downloading finnhub_python-2.4.19-py3-none-any.whl (11 kB)\n",
      "Requirement already satisfied: requests>=2.22.0 in c:\\users\\mpari\\0. llmwork\\.venv_fingpt\\lib\\site-packages (from finnhub-python) (2.31.0)\n",
      "Requirement already satisfied: certifi>=2017.4.17 in c:\\users\\mpari\\0. llmwork\\.venv_fingpt\\lib\\site-packages (from requests>=2.22.0->finnhub-python) (2023.11.17)\n",
      "Requirement already satisfied: urllib3<3,>=1.21.1 in c:\\users\\mpari\\0. llmwork\\.venv_fingpt\\lib\\site-packages (from requests>=2.22.0->finnhub-python) (2.1.0)\n",
      "Requirement already satisfied: charset-normalizer<4,>=2 in c:\\users\\mpari\\0. llmwork\\.venv_fingpt\\lib\\site-packages (from requests>=2.22.0->finnhub-python) (3.3.2)\n",
      "Requirement already satisfied: idna<4,>=2.5 in c:\\users\\mpari\\0. llmwork\\.venv_fingpt\\lib\\site-packages (from requests>=2.22.0->finnhub-python) (3.6)\n",
      "Installing collected packages: finnhub-python\n",
      "Successfully installed finnhub-python-2.4.19\n",
      "Note: you may need to restart the kernel to use updated packages.\n"
     ]
    },
    {
     "name": "stderr",
     "output_type": "stream",
     "text": [
      "WARNING: You are using pip version 22.0.4; however, version 23.3.2 is available.\n",
      "You should consider upgrading via the 'c:\\Users\\mpari\\0. LLMwork\\.venv_fingpt\\Scripts\\python.exe -m pip install --upgrade pip' command.\n"
     ]
    },
    {
     "name": "stdout",
     "output_type": "stream",
     "text": [
      "Collecting nvidia-ml-py3Note: you may need to restart the kernel to use updated packages.\n",
      "\n",
      "  Downloading nvidia-ml-py3-7.352.0.tar.gz (19 kB)\n",
      "  Preparing metadata (setup.py): started\n",
      "  Preparing metadata (setup.py): finished with status 'done'\n",
      "Using legacy 'setup.py install' for nvidia-ml-py3, since package 'wheel' is not installed.\n",
      "Installing collected packages: nvidia-ml-py3\n",
      "  Running setup.py install for nvidia-ml-py3: started\n",
      "  Running setup.py install for nvidia-ml-py3: finished with status 'done'\n",
      "Successfully installed nvidia-ml-py3-7.352.0\n"
     ]
    },
    {
     "name": "stderr",
     "output_type": "stream",
     "text": [
      "WARNING: You are using pip version 22.0.4; however, version 23.3.2 is available.\n",
      "You should consider upgrading via the 'c:\\Users\\mpari\\0. LLMwork\\.venv_fingpt\\Scripts\\python.exe -m pip install --upgrade pip' command.\n"
     ]
    }
   ],
   "source": [
    "%pip install torch==2.0.1\n",
    "%pip install transformers==4.32.0\n",
    "%pip install peft==0.5.0\n",
    "%pip install pandas\n",
    "%pip install yfinance\n",
    "%pip install finnhub-python\n",
    "%pip install nvidia-ml-py3"
   ]
  },
  {
   "cell_type": "code",
   "execution_count": null,
   "metadata": {},
   "outputs": [],
   "source": []
  }
 ],
 "metadata": {
  "kernelspec": {
   "display_name": ".venv_fingpt",
   "language": "python",
   "name": "python3"
  },
  "language_info": {
   "codemirror_mode": {
    "name": "ipython",
    "version": 3
   },
   "file_extension": ".py",
   "mimetype": "text/x-python",
   "name": "python",
   "nbconvert_exporter": "python",
   "pygments_lexer": "ipython3",
   "version": "3.9.12"
  }
 },
 "nbformat": 4,
 "nbformat_minor": 2
}
